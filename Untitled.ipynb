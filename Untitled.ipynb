{
 "cells": [
  {
   "cell_type": "code",
   "execution_count": 1,
   "id": "de28ee3f",
   "metadata": {},
   "outputs": [],
   "source": [
    "import pandas as pd\n",
    "import numpy as np\n",
    "import matplotlib.pyplot as plt\n",
    "import seaborn as sns\n",
    "from sklearn.feature_extraction.text import TfidfVectorizer\n",
    "from sklearn.metrics.pairwise import cosine_similarity\n",
    "import joblib"
   ]
  },
  {
   "cell_type": "code",
   "execution_count": 2,
   "id": "fdd41841",
   "metadata": {},
   "outputs": [],
   "source": [
    "matrix=joblib.load(open(\"D:\\\\PROJECTS\\\\What_2_Watch\\\\similarity.pkl\",'rb'))"
   ]
  },
  {
   "cell_type": "code",
   "execution_count": 3,
   "id": "7801bcf1",
   "metadata": {},
   "outputs": [
    {
     "data": {
      "text/plain": [
       "array([[1.        , 0.03881624, 0.01534584, ..., 0.00856928, 0.00998096,\n",
       "        0.00537245],\n",
       "       [0.03881624, 1.        , 0.05873907, ..., 0.04183448, 0.05400907,\n",
       "        0.02268947],\n",
       "       [0.01534584, 0.05873907, 1.        , ..., 0.0046024 , 0.00222887,\n",
       "        0.00224599],\n",
       "       ...,\n",
       "       [0.00856928, 0.04183448, 0.0046024 , ..., 1.        , 0.01455135,\n",
       "        0.0099442 ],\n",
       "       [0.00998096, 0.05400907, 0.00222887, ..., 0.01455135, 1.        ,\n",
       "        0.01917785],\n",
       "       [0.00537245, 0.02268947, 0.00224599, ..., 0.0099442 , 0.01917785,\n",
       "        1.        ]])"
      ]
     },
     "execution_count": 3,
     "metadata": {},
     "output_type": "execute_result"
    }
   ],
   "source": [
    "matrix"
   ]
  },
  {
   "cell_type": "code",
   "execution_count": 4,
   "id": "7fd5b27e",
   "metadata": {},
   "outputs": [],
   "source": [
    "new_arr=[]\n",
    "for i in range(len(matrix)):\n",
    "    idx_score=list(enumerate(matrix[i]))\n",
    "    req_movies=sorted(idx_score, reverse=True, key=lambda x: x[1])\n",
    "    new_arr.append(req_movies)\n"
   ]
  },
  {
   "cell_type": "code",
   "execution_count": 10,
   "id": "b528da49",
   "metadata": {},
   "outputs": [],
   "source": [
    "final_arr=[]\n",
    "for i in range(len(new_arr)):\n",
    "    final_arr.append(new_arr[i][0:50])"
   ]
  },
  {
   "cell_type": "code",
   "execution_count": 5,
   "id": "fc588698",
   "metadata": {},
   "outputs": [
    {
     "data": {
      "text/plain": [
       "list"
      ]
     },
     "execution_count": 5,
     "metadata": {},
     "output_type": "execute_result"
    }
   ],
   "source": [
    "type(new_arr)"
   ]
  },
  {
   "cell_type": "code",
   "execution_count": null,
   "id": "f72dac41",
   "metadata": {},
   "outputs": [],
   "source": []
  },
  {
   "cell_type": "code",
   "execution_count": 12,
   "id": "8ad2c1dc",
   "metadata": {},
   "outputs": [],
   "source": [
    "import joblib\n",
    "with open('similarity2.pkl', 'wb') as file1:\n",
    "    joblib.dump(final_arr, file1)"
   ]
  },
  {
   "cell_type": "code",
   "execution_count": 30,
   "id": "5245e19c",
   "metadata": {},
   "outputs": [
    {
     "data": {
      "text/plain": [
       "72000000"
      ]
     },
     "execution_count": 30,
     "metadata": {},
     "output_type": "execute_result"
    }
   ],
   "source": [
    "m1.nbytes"
   ]
  },
  {
   "cell_type": "code",
   "execution_count": null,
   "id": "bd47a7bd",
   "metadata": {},
   "outputs": [],
   "source": []
  }
 ],
 "metadata": {
  "kernelspec": {
   "display_name": "Python 3",
   "language": "python",
   "name": "python3"
  },
  "language_info": {
   "codemirror_mode": {
    "name": "ipython",
    "version": 3
   },
   "file_extension": ".py",
   "mimetype": "text/x-python",
   "name": "python",
   "nbconvert_exporter": "python",
   "pygments_lexer": "ipython3",
   "version": "3.9.2"
  }
 },
 "nbformat": 4,
 "nbformat_minor": 5
}
